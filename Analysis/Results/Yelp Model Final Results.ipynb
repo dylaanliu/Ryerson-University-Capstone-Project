{
 "cells": [
  {
   "cell_type": "code",
   "execution_count": 1,
   "metadata": {},
   "outputs": [
    {
     "name": "stderr",
     "output_type": "stream",
     "text": [
      "C:\\Users\\Dylan\\Anaconda3\\lib\\site-packages\\sklearn\\ensemble\\weight_boosting.py:29: DeprecationWarning: numpy.core.umath_tests is an internal NumPy module and should not be imported. It will be removed in a future NumPy release.\n",
      "  from numpy.core.umath_tests import inner1d\n"
     ]
    },
    {
     "name": "stdout",
     "output_type": "stream",
     "text": [
      "\n",
      "Multinomial Logistic Regression\n",
      "Measures:\n",
      "             precision    recall  f1-score   support\n",
      "\n",
      "          1       0.00      0.00      0.00        19\n",
      "          2       0.56      0.22      0.31       171\n",
      "          3       0.71      0.76      0.73       902\n",
      "          4       0.54      0.65      0.59       617\n",
      "          5       0.60      0.40      0.48       258\n",
      "\n",
      "avg / total       0.62      0.63      0.61      1967\n",
      "\n",
      "AUC for class  1  0.98\n",
      "AUC for class  2  0.87\n",
      "AUC for class  3  0.86\n",
      "AUC for class  4  0.80\n",
      "AUC for class  5  0.95\n",
      "\n",
      "Random Forest Regression\n",
      "Measures:\n",
      "             precision    recall  f1-score   support\n",
      "\n",
      "          1       0.85      0.58      0.69        19\n",
      "          2       0.92      0.70      0.80       171\n",
      "          3       0.83      0.90      0.87       902\n",
      "          4       0.76      0.79      0.77       617\n",
      "          5       0.84      0.65      0.73       258\n",
      "\n",
      "avg / total       0.82      0.81      0.81      1967\n",
      "\n",
      "AUC for class  1  0.74\n",
      "AUC for class  2  0.78\n",
      "AUC for class  3  0.89\n",
      "AUC for class  4  0.80\n",
      "AUC for class  5  0.76\n",
      "\n",
      "SVM\n",
      "Measures:\n",
      "             precision    recall  f1-score   support\n",
      "\n",
      "          1       0.00      0.00      0.00        19\n",
      "          2       0.00      0.00      0.00       171\n",
      "          3       0.46      1.00      0.63       902\n",
      "          4       0.00      0.00      0.00       617\n",
      "          5       0.00      0.00      0.00       258\n",
      "\n",
      "avg / total       0.21      0.46      0.29      1967\n",
      "\n",
      "AUC for class  1  0.98\n",
      "AUC for class  2  0.92\n",
      "AUC for class  3  0.82\n",
      "AUC for class  4  0.84\n",
      "AUC for class  5  0.97\n"
     ]
    }
   ],
   "source": [
    "import warnings\n",
    "warnings.filterwarnings('ignore')\n",
    "%run yelpRun.py"
   ]
  }
 ],
 "metadata": {
  "kernelspec": {
   "display_name": "Python 3",
   "language": "python",
   "name": "python3"
  },
  "language_info": {
   "codemirror_mode": {
    "name": "ipython",
    "version": 3
   },
   "file_extension": ".py",
   "mimetype": "text/x-python",
   "name": "python",
   "nbconvert_exporter": "python",
   "pygments_lexer": "ipython3",
   "version": "3.7.0"
  }
 },
 "nbformat": 4,
 "nbformat_minor": 2
}
