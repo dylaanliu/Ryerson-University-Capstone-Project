{
 "cells": [
  {
   "cell_type": "code",
   "execution_count": 1,
   "metadata": {},
   "outputs": [
    {
     "name": "stdout",
     "output_type": "stream",
     "text": [
      "SVM\n",
      "Accuracy (R2): 0.27\n",
      "MAE: 0.24\n",
      "MSE: 0.11\n",
      "RMSE: 0.33\n",
      "\n",
      "Normalized Linear Regression\n",
      "Accuracy (R2): 0.34\n",
      "MAE: 0.20\n",
      "MSE: 0.10\n",
      "RMSE: 0.31\n",
      "\n",
      "Decision Tree Regression\n",
      "Accuracy (R2): 0.50\n",
      "MAE: 0.13\n",
      "MSE: 0.07\n",
      "RMSE: 0.27\n",
      "\n",
      "Bayesian Ridge Regression\n",
      "Accuracy (R2): 0.57\n",
      "MAE: 0.16\n",
      "MSE: 0.06\n",
      "RMSE: 0.25\n",
      "\n"
     ]
    }
   ],
   "source": [
    "%run yelpRun.py"
   ]
  }
 ],
 "metadata": {
  "kernelspec": {
   "display_name": "Python 3",
   "language": "python",
   "name": "python3"
  },
  "language_info": {
   "codemirror_mode": {
    "name": "ipython",
    "version": 3
   },
   "file_extension": ".py",
   "mimetype": "text/x-python",
   "name": "python",
   "nbconvert_exporter": "python",
   "pygments_lexer": "ipython3",
   "version": "3.7.0"
  }
 },
 "nbformat": 4,
 "nbformat_minor": 2
}
